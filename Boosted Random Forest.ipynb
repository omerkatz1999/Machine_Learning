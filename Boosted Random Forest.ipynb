{
 "cells": [
  {
   "cell_type": "code",
   "execution_count": 29,
   "metadata": {},
   "outputs": [],
   "source": [
    "import numpy as np\n",
    "import pandas as pd\n",
    "from matplotlib import pyplot as plt\n",
    "from sklearn.ensemble import RandomForestClassifier, BaggingClassifier, AdaBoostClassifier, VotingClassifier\n",
    "from sklearn.model_selection import train_test_split\n",
    "from sklearn.tree import DecisionTreeClassifier\n",
    "from sklearn.linear_model import LogisticRegression\n",
    "from sklearn.svm import SVC\n",
    "%matplotlib inline"
   ]
  },
  {
   "cell_type": "code",
   "execution_count": 10,
   "metadata": {},
   "outputs": [],
   "source": [
    "data = pd.read_csv('/Users/omerkatz/Downloads/mnist_test.csv')\n",
    "#df_x = data.iloc[:,1:]\n",
    "#df_y = data.iloc[:,0]"
   ]
  },
  {
   "cell_type": "code",
   "execution_count": 13,
   "metadata": {},
   "outputs": [],
   "source": [
    "x_train, x_test, y_train, y_test = train_test_split(df_x, df_y, test_size =0.2 ,random_state=4)"
   ]
  },
  {
   "cell_type": "code",
   "execution_count": 14,
   "metadata": {},
   "outputs": [],
   "source": [
    "df_compare =  pd.DataFrame(columns=['N','Score'])\n",
    "for i in range(5,100,10):\n",
    "    rf = RandomForestClassifier(n_estimators = i)\n",
    "    rf.fit(x_train,y_train)\n",
    "    new_row = {'N': i,'Score':rf.score(x_test,y_test) }\n",
    "    df_compare = df_compare.append(new_row,ignore_index=True)\n"
   ]
  },
  {
   "cell_type": "code",
   "execution_count": 16,
   "metadata": {},
   "outputs": [
    {
     "data": {
      "text/html": [
       "<style  type=\"text/css\" >\n",
       "</style><table id=\"T_06330f20_bd66_11ea_9076_8c8590213bdc\" ><thead>    <tr>        <th class=\"col_heading level0 col0\" >N</th>        <th class=\"col_heading level0 col1\" >Score</th>    </tr></thead><tbody>\n",
       "                <tr>\n",
       "                                <td id=\"T_06330f20_bd66_11ea_9076_8c8590213bdcrow0_col0\" class=\"data row0 col0\" >5.000000</td>\n",
       "                        <td id=\"T_06330f20_bd66_11ea_9076_8c8590213bdcrow0_col1\" class=\"data row0 col1\" >0.856500</td>\n",
       "            </tr>\n",
       "            <tr>\n",
       "                                <td id=\"T_06330f20_bd66_11ea_9076_8c8590213bdcrow1_col0\" class=\"data row1 col0\" >15.000000</td>\n",
       "                        <td id=\"T_06330f20_bd66_11ea_9076_8c8590213bdcrow1_col1\" class=\"data row1 col1\" >0.920000</td>\n",
       "            </tr>\n",
       "            <tr>\n",
       "                                <td id=\"T_06330f20_bd66_11ea_9076_8c8590213bdcrow2_col0\" class=\"data row2 col0\" >25.000000</td>\n",
       "                        <td id=\"T_06330f20_bd66_11ea_9076_8c8590213bdcrow2_col1\" class=\"data row2 col1\" >0.932000</td>\n",
       "            </tr>\n",
       "            <tr>\n",
       "                                <td id=\"T_06330f20_bd66_11ea_9076_8c8590213bdcrow3_col0\" class=\"data row3 col0\" >35.000000</td>\n",
       "                        <td id=\"T_06330f20_bd66_11ea_9076_8c8590213bdcrow3_col1\" class=\"data row3 col1\" >0.935500</td>\n",
       "            </tr>\n",
       "            <tr>\n",
       "                                <td id=\"T_06330f20_bd66_11ea_9076_8c8590213bdcrow4_col0\" class=\"data row4 col0\" >45.000000</td>\n",
       "                        <td id=\"T_06330f20_bd66_11ea_9076_8c8590213bdcrow4_col1\" class=\"data row4 col1\" >0.945500</td>\n",
       "            </tr>\n",
       "            <tr>\n",
       "                                <td id=\"T_06330f20_bd66_11ea_9076_8c8590213bdcrow5_col0\" class=\"data row5 col0\" >55.000000</td>\n",
       "                        <td id=\"T_06330f20_bd66_11ea_9076_8c8590213bdcrow5_col1\" class=\"data row5 col1\" >0.945000</td>\n",
       "            </tr>\n",
       "            <tr>\n",
       "                                <td id=\"T_06330f20_bd66_11ea_9076_8c8590213bdcrow6_col0\" class=\"data row6 col0\" >65.000000</td>\n",
       "                        <td id=\"T_06330f20_bd66_11ea_9076_8c8590213bdcrow6_col1\" class=\"data row6 col1\" >0.945500</td>\n",
       "            </tr>\n",
       "            <tr>\n",
       "                                <td id=\"T_06330f20_bd66_11ea_9076_8c8590213bdcrow7_col0\" class=\"data row7 col0\" >75.000000</td>\n",
       "                        <td id=\"T_06330f20_bd66_11ea_9076_8c8590213bdcrow7_col1\" class=\"data row7 col1\" >0.947000</td>\n",
       "            </tr>\n",
       "            <tr>\n",
       "                                <td id=\"T_06330f20_bd66_11ea_9076_8c8590213bdcrow8_col0\" class=\"data row8 col0\" >85.000000</td>\n",
       "                        <td id=\"T_06330f20_bd66_11ea_9076_8c8590213bdcrow8_col1\" class=\"data row8 col1\" >0.946000</td>\n",
       "            </tr>\n",
       "            <tr>\n",
       "                                <td id=\"T_06330f20_bd66_11ea_9076_8c8590213bdcrow9_col0\" class=\"data row9 col0\" >95.000000</td>\n",
       "                        <td id=\"T_06330f20_bd66_11ea_9076_8c8590213bdcrow9_col1\" class=\"data row9 col1\" >0.951000</td>\n",
       "            </tr>\n",
       "    </tbody></table>"
      ],
      "text/plain": [
       "<pandas.io.formats.style.Styler at 0x1a24a24550>"
      ]
     },
     "execution_count": 16,
     "metadata": {},
     "output_type": "execute_result"
    }
   ],
   "source": [
    "df_compare.style.hide_index()"
   ]
  },
  {
   "cell_type": "markdown",
   "metadata": {},
   "source": [
    "# Now Let's test bagging"
   ]
  },
  {
   "cell_type": "code",
   "execution_count": 53,
   "metadata": {},
   "outputs": [],
   "source": [
    "#bagging - Gradient \n",
    "bag = BaggingClassifier(DecisionTreeClassifier(), max_samples =0.5, max_features = 1.0, n_estimators = 100)"
   ]
  },
  {
   "cell_type": "code",
   "execution_count": 49,
   "metadata": {},
   "outputs": [
    {
     "data": {
      "text/plain": [
       "BaggingClassifier(base_estimator=DecisionTreeClassifier(ccp_alpha=0.0,\n",
       "                                                        class_weight=None,\n",
       "                                                        criterion='gini',\n",
       "                                                        max_depth=None,\n",
       "                                                        max_features=None,\n",
       "                                                        max_leaf_nodes=None,\n",
       "                                                        min_impurity_decrease=0.0,\n",
       "                                                        min_impurity_split=None,\n",
       "                                                        min_samples_leaf=1,\n",
       "                                                        min_samples_split=2,\n",
       "                                                        min_weight_fraction_leaf=0.0,\n",
       "                                                        presort='deprecated',\n",
       "                                                        random_state=None,\n",
       "                                                        splitter='best'),\n",
       "                  bootstrap=True, bootstrap_features=False, max_features=1.0,\n",
       "                  max_samples=0.5, n_estimators=100, n_jobs=None,\n",
       "                  oob_score=False, random_state=None, verbose=0,\n",
       "                  warm_start=False)"
      ]
     },
     "execution_count": 49,
     "metadata": {},
     "output_type": "execute_result"
    }
   ],
   "source": [
    "bag.fit(x_train,y_train)"
   ]
  },
  {
   "cell_type": "code",
   "execution_count": 50,
   "metadata": {},
   "outputs": [
    {
     "data": {
      "text/plain": [
       "0.9145"
      ]
     },
     "execution_count": 50,
     "metadata": {},
     "output_type": "execute_result"
    }
   ],
   "source": [
    "bag.score(x_test,y_test)"
   ]
  },
  {
   "cell_type": "code",
   "execution_count": 26,
   "metadata": {},
   "outputs": [
    {
     "data": {
      "text/plain": [
       "AdaBoostClassifier(algorithm='SAMME.R',\n",
       "                   base_estimator=DecisionTreeClassifier(ccp_alpha=0.0,\n",
       "                                                         class_weight=None,\n",
       "                                                         criterion='gini',\n",
       "                                                         max_depth=None,\n",
       "                                                         max_features=None,\n",
       "                                                         max_leaf_nodes=None,\n",
       "                                                         min_impurity_decrease=0.0,\n",
       "                                                         min_impurity_split=None,\n",
       "                                                         min_samples_leaf=1,\n",
       "                                                         min_samples_split=2,\n",
       "                                                         min_weight_fraction_leaf=0.0,\n",
       "                                                         presort='deprecated',\n",
       "                                                         random_state=None,\n",
       "                                                         splitter='best'),\n",
       "                   learning_rate=1, n_estimators=10, random_state=None)"
      ]
     },
     "execution_count": 26,
     "metadata": {},
     "output_type": "execute_result"
    }
   ],
   "source": [
    "#boosting -adaboost \n",
    "adb = AdaBoostClassifier(DecisionTreeClassifier(),n_estimators=10, learning_rate=1)\n",
    "adb.fit(x_train,y_train)\n"
   ]
  },
  {
   "cell_type": "code",
   "execution_count": 27,
   "metadata": {},
   "outputs": [
    {
     "data": {
      "text/plain": [
       "0.8015"
      ]
     },
     "execution_count": 27,
     "metadata": {},
     "output_type": "execute_result"
    }
   ],
   "source": [
    "#testing score\n",
    "adb.score(x_test,y_test)"
   ]
  },
  {
   "cell_type": "code",
   "execution_count": 28,
   "metadata": {},
   "outputs": [
    {
     "data": {
      "text/plain": [
       "1.0"
      ]
     },
     "execution_count": 28,
     "metadata": {},
     "output_type": "execute_result"
    }
   ],
   "source": [
    "#training score --- clearly overfitting \n",
    "adb.score(x_train, y_train)"
   ]
  },
  {
   "cell_type": "code",
   "execution_count": 31,
   "metadata": {},
   "outputs": [],
   "source": [
    "#create a voting classifier using 3 models\n",
    "lr = LogisticRegression()\n",
    "\n",
    "dt = DecisionTreeClassifier()\n",
    "\n",
    "svm = SVC(kernel= 'poly', degree = 2)\n",
    "\n",
    "evc = VotingClassifier(estimators= [('lr',lr),('dt',dt),('svm',svm)], voting = 'hard')"
   ]
  },
  {
   "cell_type": "code",
   "execution_count": 43,
   "metadata": {},
   "outputs": [
    {
     "name": "stderr",
     "output_type": "stream",
     "text": [
      "/opt/anaconda3/lib/python3.7/site-packages/sklearn/linear_model/_logistic.py:940: ConvergenceWarning: lbfgs failed to converge (status=1):\n",
      "STOP: TOTAL NO. of ITERATIONS REACHED LIMIT.\n",
      "\n",
      "Increase the number of iterations (max_iter) or scale the data as shown in:\n",
      "    https://scikit-learn.org/stable/modules/preprocessing.html\n",
      "Please also refer to the documentation for alternative solver options:\n",
      "    https://scikit-learn.org/stable/modules/linear_model.html#logistic-regression\n",
      "  extra_warning_msg=_LOGISTIC_SOLVER_CONVERGENCE_MSG)\n"
     ]
    },
    {
     "data": {
      "text/plain": [
       "VotingClassifier(estimators=[('lr',\n",
       "                              LogisticRegression(C=1.0, class_weight=None,\n",
       "                                                 dual=False, fit_intercept=True,\n",
       "                                                 intercept_scaling=1,\n",
       "                                                 l1_ratio=None, max_iter=100,\n",
       "                                                 multi_class='auto',\n",
       "                                                 n_jobs=None, penalty='l2',\n",
       "                                                 random_state=None,\n",
       "                                                 solver='lbfgs', tol=0.0001,\n",
       "                                                 verbose=0, warm_start=False)),\n",
       "                             ('dt',\n",
       "                              DecisionTreeClassifier(ccp_alpha=0.0,\n",
       "                                                     class_weight=None,\n",
       "                                                     criterion='gini',...\n",
       "                                                     presort='deprecated',\n",
       "                                                     random_state=None,\n",
       "                                                     splitter='best')),\n",
       "                             ('svm',\n",
       "                              SVC(C=1.0, break_ties=False, cache_size=200,\n",
       "                                  class_weight=None, coef0=0.0,\n",
       "                                  decision_function_shape='ovr', degree=2,\n",
       "                                  gamma='scale', kernel='poly', max_iter=-1,\n",
       "                                  probability=False, random_state=None,\n",
       "                                  shrinking=True, tol=0.001, verbose=False))],\n",
       "                 flatten_transform=True, n_jobs=None, voting='hard',\n",
       "                 weights=None)"
      ]
     },
     "execution_count": 43,
     "metadata": {},
     "output_type": "execute_result"
    }
   ],
   "source": [
    "#fit the model \n",
    "evc.fit(x_train.iloc[1:4000], y_train.iloc[1:4000])"
   ]
  },
  {
   "cell_type": "code",
   "execution_count": 47,
   "metadata": {},
   "outputs": [
    {
     "data": {
      "text/plain": [
       "0.916"
      ]
     },
     "execution_count": 47,
     "metadata": {},
     "output_type": "execute_result"
    }
   ],
   "source": [
    "#calculate score:\n",
    "evc.score(x_test,y_test)"
   ]
  },
  {
   "cell_type": "code",
   "execution_count": null,
   "metadata": {},
   "outputs": [],
   "source": []
  }
 ],
 "metadata": {
  "kernelspec": {
   "display_name": "Python 3",
   "language": "python",
   "name": "python3"
  },
  "language_info": {
   "codemirror_mode": {
    "name": "ipython",
    "version": 3
   },
   "file_extension": ".py",
   "mimetype": "text/x-python",
   "name": "python",
   "nbconvert_exporter": "python",
   "pygments_lexer": "ipython3",
   "version": "3.7.6"
  }
 },
 "nbformat": 4,
 "nbformat_minor": 4
}
